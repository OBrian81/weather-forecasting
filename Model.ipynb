{
 "cells": [
  {
   "cell_type": "code",
   "execution_count": 1,
   "id": "436fa3e1",
   "metadata": {},
   "outputs": [
    {
     "name": "stdout",
     "output_type": "stream",
     "text": [
      "<class 'pandas.core.frame.DataFrame'>\n",
      "RangeIndex: 943 entries, 0 to 942\n",
      "Data columns (total 33 columns):\n",
      " #   Column            Non-Null Count  Dtype  \n",
      "---  ------            --------------  -----  \n",
      " 0   name              943 non-null    object \n",
      " 1   datetime          943 non-null    object \n",
      " 2   tempmax           943 non-null    float64\n",
      " 3   tempmin           943 non-null    float64\n",
      " 4   temp              943 non-null    float64\n",
      " 5   feelslikemax      943 non-null    float64\n",
      " 6   feelslikemin      943 non-null    float64\n",
      " 7   feelslike         943 non-null    float64\n",
      " 8   dew               943 non-null    float64\n",
      " 9   humidity          943 non-null    float64\n",
      " 10  precip            943 non-null    float64\n",
      " 11  precipprob        943 non-null    int64  \n",
      " 12  precipcover       943 non-null    float64\n",
      " 13  preciptype        692 non-null    object \n",
      " 14  snow              943 non-null    int64  \n",
      " 15  snowdepth         943 non-null    int64  \n",
      " 16  windgust          943 non-null    float64\n",
      " 17  windspeed         943 non-null    float64\n",
      " 18  winddir           943 non-null    float64\n",
      " 19  sealevelpressure  943 non-null    float64\n",
      " 20  cloudcover        943 non-null    float64\n",
      " 21  visibility        943 non-null    float64\n",
      " 22  solarradiation    943 non-null    float64\n",
      " 23  solarenergy       943 non-null    float64\n",
      " 24  uvindex           943 non-null    int64  \n",
      " 25  severerisk        943 non-null    int64  \n",
      " 26  sunrise           943 non-null    object \n",
      " 27  sunset            943 non-null    object \n",
      " 28  moonphase         943 non-null    float64\n",
      " 29  conditions        943 non-null    object \n",
      " 30  description       943 non-null    object \n",
      " 31  icon              943 non-null    object \n",
      " 32  stations          943 non-null    object \n",
      "dtypes: float64(19), int64(5), object(9)\n",
      "memory usage: 243.2+ KB\n"
     ]
    },
    {
     "data": {
      "text/plain": [
       "(None,\n",
       "     name    datetime  tempmax  tempmin  temp  feelslikemax  feelslikemin  \\\n",
       " 0  kenya  2022-09-01     75.4     57.2  65.9          75.4          57.2   \n",
       " 1  kenya  2022-09-02     66.4     57.0  61.7          66.4          57.0   \n",
       " 2  kenya  2022-09-03     73.6     55.6  64.1          73.6          55.6   \n",
       " 3  kenya  2022-09-04     78.8     55.4  66.1          78.8          55.4   \n",
       " 4  kenya  2022-09-05     78.6     57.2  66.5          78.6          57.2   \n",
       " \n",
       "    feelslike   dew  humidity  ...  solarenergy  uvindex  severerisk  \\\n",
       " 0       65.9  51.5      62.4  ...         14.0        6          10   \n",
       " 1       61.7  53.4      75.0  ...         14.9        7          10   \n",
       " 2       64.1  52.2      66.6  ...         14.5        6          10   \n",
       " 3       66.1  53.4      67.2  ...         18.4        7          10   \n",
       " 4       66.5  53.1      63.6  ...         20.8        8          10   \n",
       " \n",
       "                sunrise               sunset  moonphase        conditions  \\\n",
       " 0  2022-09-01T06:30:10  2022-09-01T18:35:26       0.18  Partially cloudy   \n",
       " 1  2022-09-02T06:29:49  2022-09-02T18:35:08       0.21  Partially cloudy   \n",
       " 2  2022-09-03T06:29:28  2022-09-03T18:34:51       0.25  Partially cloudy   \n",
       " 3  2022-09-04T06:29:07  2022-09-04T18:34:33       0.29  Partially cloudy   \n",
       " 4  2022-09-05T06:28:45  2022-09-05T18:34:15       0.32  Partially cloudy   \n",
       " \n",
       "                          description               icon  \\\n",
       " 0  Partly cloudy throughout the day.  partly-cloudy-day   \n",
       " 1  Partly cloudy throughout the day.  partly-cloudy-day   \n",
       " 2  Partly cloudy throughout the day.  partly-cloudy-day   \n",
       " 3  Partly cloudy throughout the day.  partly-cloudy-day   \n",
       " 4  Partly cloudy throughout the day.  partly-cloudy-day   \n",
       " \n",
       "                             stations  \n",
       " 0  HKJK,HKNW,63740099999,63742099999  \n",
       " 1  HKJK,HKNW,63740099999,63742099999  \n",
       " 2  HKJK,HKNW,63740099999,63742099999  \n",
       " 3  HKJK,HKNW,63740099999,63742099999  \n",
       " 4  HKJK,HKNW,63740099999,63742099999  \n",
       " \n",
       " [5 rows x 33 columns])"
      ]
     },
     "execution_count": 1,
     "metadata": {},
     "output_type": "execute_result"
    }
   ],
   "source": [
    "import pandas as pd\n",
    "\n",
    "# Load the uploaded dataset\n",
    "file_path = \"kenya 2022-09-01 to 2025-03-31.csv\"\n",
    "df = pd.read_csv(file_path)\n",
    "\n",
    "# Display basic info and head\n",
    "df.info(), df.head()\n"
   ]
  },
  {
   "cell_type": "code",
   "execution_count": null,
   "id": "d9be75ae",
   "metadata": {},
   "outputs": [],
   "source": []
  },
  {
   "cell_type": "code",
   "execution_count": 2,
   "id": "4c85ffb3",
   "metadata": {},
   "outputs": [],
   "source": [
    "# # Step 1: Data Preprocessing\n",
    "# Datetime conversion\n",
    "\n",
    "# Drop non-essential columns (name, stations, descriptions, etc.)\n",
    "\n",
    "# Missing value imputation (e.g., KNN)\n",
    "\n",
    "# Normalization (MinMax or Z-score)\n",
    "\n",
    "# Feature-target separation"
   ]
  },
  {
   "cell_type": "code",
   "execution_count": 3,
   "id": "d11d316f",
   "metadata": {},
   "outputs": [
    {
     "data": {
      "text/plain": [
       "((943, 23), (943,))"
      ]
     },
     "execution_count": 3,
     "metadata": {},
     "output_type": "execute_result"
    }
   ],
   "source": [
    "from sklearn.impute import KNNImputer\n",
    "from sklearn.preprocessing import StandardScaler\n",
    "import numpy as np\n",
    "\n",
    "# Step 1: Convert datetime and drop non-essential columns\n",
    "df['datetime'] = pd.to_datetime(df['datetime'])\n",
    "\n",
    "# Drop non-numeric and unnecessary columns\n",
    "columns_to_drop = ['name', 'preciptype', 'conditions', 'description', 'icon', 'stations', 'sunrise', 'sunset']\n",
    "df = df.drop(columns=columns_to_drop)\n",
    "\n",
    "# Step 2: Impute missing values using KNN\n",
    "imputer = KNNImputer(n_neighbors=5)\n",
    "df_imputed = pd.DataFrame(imputer.fit_transform(df.select_dtypes(include=[np.number])),\n",
    "                          columns=df.select_dtypes(include=[np.number]).columns)\n",
    "\n",
    "# Step 3: Normalize the data\n",
    "scaler = StandardScaler()\n",
    "df_scaled = pd.DataFrame(scaler.fit_transform(df_imputed), columns=df_imputed.columns)\n",
    "\n",
    "# Step 4: Prepare features and target\n",
    "X = df_scaled.drop(columns=['temp'])\n",
    "y = df_scaled['temp']\n",
    "\n",
    "X.shape, y.shape\n"
   ]
  },
  {
   "cell_type": "code",
   "execution_count": 4,
   "id": "9a52f893",
   "metadata": {},
   "outputs": [],
   "source": [
    "# Features shape: 943 samples × 23 features\n",
    "\n",
    "# Target: temp (standardized)"
   ]
  },
  {
   "cell_type": "code",
   "execution_count": null,
   "id": "ff2d3597",
   "metadata": {},
   "outputs": [],
   "source": []
  },
  {
   "cell_type": "code",
   "execution_count": null,
   "id": "c7ffb9af",
   "metadata": {},
   "outputs": [],
   "source": []
  },
  {
   "cell_type": "code",
   "execution_count": 5,
   "id": "843b1786",
   "metadata": {},
   "outputs": [],
   "source": [
    "# Step 2: Model Training - Individual Models\n",
    "#     Train Random Forest, XGBoost, and SVM regressors\n",
    "\n",
    "# Evaluate using:\n",
    "\n",
    "# MAE (Mean Absolute Error)\n",
    "\n",
    "# RMSE (Root Mean Squared Error)\n",
    "\n",
    "# MSE (Mean Squared Error)\n",
    "\n",
    "# R² (Coefficient of Determination)"
   ]
  },
  {
   "cell_type": "code",
   "execution_count": 6,
   "id": "052f477d",
   "metadata": {},
   "outputs": [
    {
     "data": {
      "text/plain": [
       "{'Random Forest': {'MAE': 0.017083127871641915,\n",
       "  'RMSE': 0.03408020566272752,\n",
       "  'MSE': 0.001161460418013805,\n",
       "  'R²': 0.998822060675999},\n",
       " 'XGBoost': {'MAE': 0.018429272995619157,\n",
       "  'RMSE': 0.031076317040105782,\n",
       "  'MSE': 0.0009657374807771691,\n",
       "  'R²': 0.9990233469648373},\n",
       " 'SVM': {'MAE': 0.09573376643415676,\n",
       "  'RMSE': 0.14673371506968605,\n",
       "  'MSE': 0.02153078313815181,\n",
       "  'R²': 0.9782349206938822}}"
      ]
     },
     "execution_count": 6,
     "metadata": {},
     "output_type": "execute_result"
    }
   ],
   "source": [
    "from sklearn.ensemble import RandomForestRegressor\n",
    "from sklearn.svm import SVR\n",
    "from xgboost import XGBRegressor\n",
    "from sklearn.model_selection import cross_val_score, KFold\n",
    "from sklearn.metrics import mean_absolute_error, mean_squared_error, r2_score\n",
    "import numpy as np\n",
    "\n",
    "# Initialize models\n",
    "models = {\n",
    "    'Random Forest': RandomForestRegressor(n_estimators=100, random_state=42),\n",
    "    'XGBoost': XGBRegressor(n_estimators=100, random_state=42, verbosity=0),\n",
    "    'SVM': SVR()\n",
    "}\n",
    "\n",
    "# Cross-validation setup\n",
    "kf = KFold(n_splits=5, shuffle=True, random_state=42)\n",
    "results = {}\n",
    "\n",
    "# Evaluate each model\n",
    "for name, model in models.items():\n",
    "    mae_scores = -cross_val_score(model, X, y, cv=kf, scoring='neg_mean_absolute_error')\n",
    "    mse_scores = -cross_val_score(model, X, y, cv=kf, scoring='neg_mean_squared_error')\n",
    "    r2_scores = cross_val_score(model, X, y, cv=kf, scoring='r2')\n",
    "    \n",
    "    results[name] = {\n",
    "        'MAE': np.mean(mae_scores),\n",
    "        'RMSE': np.sqrt(np.mean(mse_scores)),\n",
    "        'MSE': np.mean(mse_scores),\n",
    "        'R²': np.mean(r2_scores)\n",
    "    }\n",
    "\n",
    "results\n"
   ]
  },
  {
   "cell_type": "code",
   "execution_count": 7,
   "id": "d85ecd20",
   "metadata": {},
   "outputs": [],
   "source": [
    "# Random Forest Regressor Evaluation"
   ]
  },
  {
   "cell_type": "code",
   "execution_count": 8,
   "id": "71edce5c",
   "metadata": {},
   "outputs": [
    {
     "data": {
      "text/plain": [
       "{'MAE': 0.017083127871641915,\n",
       " 'RMSE': 0.03408020566272752,\n",
       " 'MSE': 0.001161460418013805,\n",
       " 'R²': 0.998822060675999}"
      ]
     },
     "execution_count": 8,
     "metadata": {},
     "output_type": "execute_result"
    }
   ],
   "source": [
    "# Train and evaluate Random Forest with cross-validation\n",
    "rf_model = RandomForestRegressor(n_estimators=100, random_state=42)\n",
    "\n",
    "mae_scores = -cross_val_score(rf_model, X, y, cv=kf, scoring='neg_mean_absolute_error')\n",
    "mse_scores = -cross_val_score(rf_model, X, y, cv=kf, scoring='neg_mean_squared_error')\n",
    "r2_scores = cross_val_score(rf_model, X, y, cv=kf, scoring='r2')\n",
    "\n",
    "rf_results = {\n",
    "    'MAE': np.mean(mae_scores),\n",
    "    'RMSE': np.sqrt(np.mean(mse_scores)),\n",
    "    'MSE': np.mean(mse_scores),\n",
    "    'R²': np.mean(r2_scores)\n",
    "}\n",
    "\n",
    "rf_results\n"
   ]
  },
  {
   "cell_type": "code",
   "execution_count": 9,
   "id": "1b7eb743",
   "metadata": {},
   "outputs": [],
   "source": [
    "#SVM Evaluation"
   ]
  },
  {
   "cell_type": "code",
   "execution_count": 10,
   "id": "47357ef7",
   "metadata": {},
   "outputs": [
    {
     "data": {
      "text/plain": [
       "{'MAE': 0.09573376643415676,\n",
       " 'RMSE': 0.14673371506968605,\n",
       " 'MSE': 0.02153078313815181,\n",
       " 'R²': 0.9782349206938822}"
      ]
     },
     "execution_count": 10,
     "metadata": {},
     "output_type": "execute_result"
    }
   ],
   "source": [
    "# Train and evaluate Support Vector Machine (SVM) with cross-validation\n",
    "svm_model = SVR()\n",
    "\n",
    "mae_scores = -cross_val_score(svm_model, X, y, cv=kf, scoring='neg_mean_absolute_error')\n",
    "mse_scores = -cross_val_score(svm_model, X, y, cv=kf, scoring='neg_mean_squared_error')\n",
    "r2_scores = cross_val_score(svm_model, X, y, cv=kf, scoring='r2')\n",
    "\n",
    "svm_results = {\n",
    "    'MAE': np.mean(mae_scores),\n",
    "    'RMSE': np.sqrt(np.mean(mse_scores)),\n",
    "    'MSE': np.mean(mse_scores),\n",
    "    'R²': np.mean(r2_scores)\n",
    "}\n",
    "\n",
    "svm_results\n"
   ]
  },
  {
   "cell_type": "code",
   "execution_count": 11,
   "id": "7bca4ef1",
   "metadata": {},
   "outputs": [],
   "source": [
    "#XGBoost"
   ]
  },
  {
   "cell_type": "code",
   "execution_count": 12,
   "id": "15da01fb",
   "metadata": {},
   "outputs": [
    {
     "data": {
      "text/plain": [
       "{'MAE': 0.015704413299216118,\n",
       " 'RMSE': 0.02544871225958176,\n",
       " 'MSE': 0.000647636955670987,\n",
       " 'R²': 0.9993362438507727}"
      ]
     },
     "execution_count": 12,
     "metadata": {},
     "output_type": "execute_result"
    }
   ],
   "source": [
    "from sklearn.model_selection import train_test_split\n",
    "\n",
    "# Split data for single train-test evaluation\n",
    "X_train, X_test, y_train, y_test = train_test_split(X, y, test_size=0.2, random_state=42)\n",
    "\n",
    "# Initialize and train XGBoost\n",
    "xgb_model = XGBRegressor(n_estimators=50, max_depth=3, learning_rate=0.1, random_state=42, verbosity=0)\n",
    "xgb_model.fit(X_train, y_train)\n",
    "\n",
    "# Predict and evaluate\n",
    "y_pred = xgb_model.predict(X_test)\n",
    "\n",
    "xgb_results = {\n",
    "    'MAE': mean_absolute_error(y_test, y_pred),\n",
    "    'RMSE': np.sqrt(mean_squared_error(y_test, y_pred)),\n",
    "    'MSE': mean_squared_error(y_test, y_pred),\n",
    "    'R²': r2_score(y_test, y_pred)\n",
    "}\n",
    "\n",
    "xgb_results\n"
   ]
  },
  {
   "cell_type": "code",
   "execution_count": null,
   "id": "8b67eb82",
   "metadata": {},
   "outputs": [],
   "source": []
  },
  {
   "cell_type": "code",
   "execution_count": null,
   "id": "0f732acd",
   "metadata": {},
   "outputs": [],
   "source": []
  },
  {
   "cell_type": "code",
   "execution_count": 13,
   "id": "dcdf7f2b",
   "metadata": {},
   "outputs": [],
   "source": [
    "# Stacking Ensemble"
   ]
  },
  {
   "cell_type": "code",
   "execution_count": null,
   "id": "fee348bf",
   "metadata": {},
   "outputs": [],
   "source": []
  },
  {
   "cell_type": "code",
   "execution_count": 14,
   "id": "21464087",
   "metadata": {},
   "outputs": [
    {
     "data": {
      "text/plain": [
       "{'MAE': 0.013961027997696196,\n",
       " 'RMSE': 0.024048735973132365,\n",
       " 'MSE': 0.0005783417019054306,\n",
       " 'R²': 0.999407263810947}"
      ]
     },
     "execution_count": 14,
     "metadata": {},
     "output_type": "execute_result"
    }
   ],
   "source": [
    "# Re-import libraries and reload dataset due to environment reset\n",
    "import pandas as pd\n",
    "import numpy as np\n",
    "from sklearn.impute import KNNImputer\n",
    "from sklearn.preprocessing import StandardScaler\n",
    "from sklearn.ensemble import RandomForestRegressor, StackingRegressor\n",
    "from sklearn.svm import SVR\n",
    "from sklearn.linear_model import LinearRegression\n",
    "from sklearn.model_selection import train_test_split\n",
    "from sklearn.metrics import mean_absolute_error, mean_squared_error, r2_score\n",
    "from xgboost import XGBRegressor\n",
    "\n",
    "# Reload the dataset\n",
    "file_path = \"kenya 2022-09-01 to 2025-03-31.csv\"\n",
    "df = pd.read_csv(file_path)\n",
    "\n",
    "# Convert datetime and drop non-essential columns\n",
    "df['datetime'] = pd.to_datetime(df['datetime'])\n",
    "columns_to_drop = ['name', 'preciptype', 'conditions', 'description', 'icon', 'stations', 'sunrise', 'sunset']\n",
    "df = df.drop(columns=columns_to_drop)\n",
    "\n",
    "# Impute missing values\n",
    "imputer = KNNImputer(n_neighbors=5)\n",
    "df_imputed = pd.DataFrame(imputer.fit_transform(df.select_dtypes(include=[np.number])),\n",
    "                          columns=df.select_dtypes(include=[np.number]).columns)\n",
    "\n",
    "# Normalize the data\n",
    "scaler = StandardScaler()\n",
    "df_scaled = pd.DataFrame(scaler.fit_transform(df_imputed), columns=df_imputed.columns)\n",
    "\n",
    "# Prepare features and target\n",
    "X = df_scaled.drop(columns=['temp'])\n",
    "y = df_scaled['temp']\n",
    "\n",
    "# Train-test split\n",
    "X_train, X_test, y_train, y_test = train_test_split(X, y, test_size=0.2, random_state=42)\n",
    "\n",
    "# Define base models\n",
    "base_models = [\n",
    "    ('rf', RandomForestRegressor(n_estimators=100, random_state=42)),\n",
    "    ('svm', SVR()),\n",
    "    ('xgb', XGBRegressor(n_estimators=50, max_depth=3, learning_rate=0.1, random_state=42, verbosity=0))\n",
    "]\n",
    "\n",
    "# Define meta-model\n",
    "meta_model = LinearRegression()\n",
    "\n",
    "# Build and train stacking ensemble\n",
    "stack_model = StackingRegressor(estimators=base_models, final_estimator=meta_model, cv=5)\n",
    "stack_model.fit(X_train, y_train)\n",
    "\n",
    "# Predict and evaluate\n",
    "y_pred_stack = stack_model.predict(X_test)\n",
    "\n",
    "stack_results = {\n",
    "    'MAE': mean_absolute_error(y_test, y_pred_stack),\n",
    "    'RMSE': np.sqrt(mean_squared_error(y_test, y_pred_stack)),\n",
    "    'MSE': mean_squared_error(y_test, y_pred_stack),\n",
    "    'R²': r2_score(y_test, y_pred_stack)\n",
    "}\n",
    "\n",
    "stack_results\n"
   ]
  },
  {
   "cell_type": "code",
   "execution_count": 15,
   "id": "3c82bd08",
   "metadata": {},
   "outputs": [],
   "source": [
    "#Finndings\n",
    "\n",
    "# Better than XGBoost (which already had strong R² ≈ 0.9993)\n",
    "\n",
    "# Significantly better than SVM\n",
    "\n",
    "# Slightly better than Random Forest\n",
    "\n",
    "\n",
    "# # Model summary\n",
    "\n",
    "# | Model         | MAE      | RMSE     | R²           |\n",
    "# | ------------- | -------- | -------- | ------------ |\n",
    "# | Random Forest | 0.0171   | 0.0342   | 0.9988       |\n",
    "# | SVM           | 0.0957   | 0.1467   | 0.9782       |\n",
    "# | XGBoost       | 0.0157   | 0.0254   | 0.9993       |\n",
    "# | **Stacked**   | 0.0140 | 0.0240 | **0.9994** |\n"
   ]
  },
  {
   "cell_type": "code",
   "execution_count": null,
   "id": "9d6ef87d",
   "metadata": {},
   "outputs": [],
   "source": []
  },
  {
   "cell_type": "code",
   "execution_count": null,
   "id": "cb598975",
   "metadata": {},
   "outputs": [],
   "source": []
  },
  {
   "cell_type": "code",
   "execution_count": 16,
   "id": "525ba241",
   "metadata": {},
   "outputs": [],
   "source": [
    "# Step 4: Visual Validation – Predictions vs Actuals"
   ]
  },
  {
   "cell_type": "code",
   "execution_count": 17,
   "id": "7e7b9be4",
   "metadata": {},
   "outputs": [],
   "source": [
    "# Plot actual vs predicted temperature values\n",
    "\n",
    "# Highlight residuals (errors)\n",
    "\n",
    "# Provide a quick visual sense of how close the predictions are"
   ]
  },
  {
   "cell_type": "code",
   "execution_count": 25,
   "id": "a2e94d24",
   "metadata": {},
   "outputs": [
    {
     "data": {
      "image/png": "[encoded data removed]",
      "text/plain": [
       "<Figure size 1000x600 with 1 Axes>"
      ]
     },
     "metadata": {},
     "output_type": "display_data"
    }
   ],
   "source": [
    "# Re-load the re-uploaded dataset\n",
    "file_path = \"kenya 2022-09-01 to 2025-03-31.csv\"\n",
    "df = pd.read_csv(file_path)\n",
    "\n",
    "# Re-import and preprocess\n",
    "df['datetime'] = pd.to_datetime(df['datetime'])\n",
    "columns_to_drop = ['name', 'preciptype', 'conditions', 'description', 'icon', 'stations', 'sunrise', 'sunset']\n",
    "df = df.drop(columns=columns_to_drop)\n",
    "\n",
    "from sklearn.impute import KNNImputer\n",
    "from sklearn.preprocessing import StandardScaler\n",
    "from sklearn.ensemble import RandomForestRegressor, StackingRegressor\n",
    "from sklearn.svm import SVR\n",
    "from sklearn.linear_model import LinearRegression\n",
    "from sklearn.model_selection import train_test_split\n",
    "from sklearn.metrics import mean_absolute_error, mean_squared_error, r2_score\n",
    "from xgboost import XGBRegressor\n",
    "import matplotlib.pyplot as plt\n",
    "import numpy as np\n",
    "\n",
    "# Impute and scale\n",
    "imputer = KNNImputer(n_neighbors=5)\n",
    "df_imputed = pd.DataFrame(imputer.fit_transform(df.select_dtypes(include=[np.number])),\n",
    "                          columns=df.select_dtypes(include=[np.number]).columns)\n",
    "\n",
    "scaler = StandardScaler()\n",
    "df_scaled = pd.DataFrame(scaler.fit_transform(df_imputed), columns=df_imputed.columns)\n",
    "\n",
    "X = df_scaled.drop(columns=['temp'])\n",
    "y = df_scaled['temp']\n",
    "\n",
    "# Train-test split\n",
    "X_train, X_test, y_train, y_test = train_test_split(X, y, test_size=0.2, random_state=42)\n",
    "\n",
    "# Define and train stacking ensemble\n",
    "base_models = [\n",
    "    ('rf', RandomForestRegressor(n_estimators=100, random_state=42)),\n",
    "    ('svm', SVR()),\n",
    "    ('xgb', XGBRegressor(n_estimators=50, max_depth=3, learning_rate=0.1, random_state=42, verbosity=0))\n",
    "]\n",
    "meta_model = LinearRegression()\n",
    "stack_model = StackingRegressor(estimators=base_models, final_estimator=meta_model, cv=5)\n",
    "stack_model.fit(X_train, y_train)\n",
    "\n",
    "# Predict and plot\n",
    "y_pred_stack = stack_model.predict(X_test)\n",
    "\n",
    "plt.figure(figsize=(10, 6))\n",
    "plt.scatter(y_test, y_pred_stack, alpha=0.6)\n",
    "plt.plot([y_test.min(), y_test.max()], [y_test.min(), y_test.max()], 'r--')\n",
    "plt.xlabel(\"Actual Temperature (Standardized)\")\n",
    "plt.ylabel(\"Predicted Temperature (Standardized)\")\n",
    "plt.title(\"Actual vs Predicted Temperature (Stacking Ensemble)\")\n",
    "plt.grid(True)\n",
    "plt.tight_layout()\n",
    "plt.show()\n"
   ]
  },
  {
   "cell_type": "code",
   "execution_count": 26,
   "id": "d2c6e67b",
   "metadata": {},
   "outputs": [],
   "source": [
    "# The scatter plot of actual vs. predicted standardized temperatures confirms the excellent predictive performance of the stacking ensemble\n",
    "# — points align closely along the red dashed line (ideal prediction)."
   ]
  },
  {
   "cell_type": "code",
   "execution_count": 27,
   "id": "4c8c718b",
   "metadata": {},
   "outputs": [],
   "source": [
    "# Export the trained model for deployment\n",
    "\n",
    "# Forecast new climate data (please upload unseen data if so)"
   ]
  },
  {
   "cell_type": "code",
   "execution_count": null,
   "id": "3549dfa8",
   "metadata": {},
   "outputs": [],
   "source": []
  },
  {
   "cell_type": "code",
   "execution_count": 28,
   "id": "43c6f7e1",
   "metadata": {},
   "outputs": [],
   "source": [
    "# Save the model"
   ]
  },
  {
   "cell_type": "code",
   "execution_count": 29,
   "id": "bf723cb4",
   "metadata": {},
   "outputs": [
    {
     "data": {
      "text/plain": [
       "'stacking_temp_forecast_model.pkl'"
      ]
     },
     "execution_count": 29,
     "metadata": {},
     "output_type": "execute_result"
    }
   ],
   "source": [
    "import joblib\n",
    "\n",
    "# Save the trained stacking model\n",
    "model_path = \"stacking_temp_forecast_model.pkl\"\n",
    "joblib.dump(stack_model, model_path)\n",
    "\n",
    "model_path\n"
   ]
  },
  {
   "cell_type": "code",
   "execution_count": null,
   "id": "6a2e6e5f",
   "metadata": {},
   "outputs": [],
   "source": []
  },
  {
   "cell_type": "code",
   "execution_count": null,
   "id": "07834944",
   "metadata": {},
   "outputs": [],
   "source": []
  },
  {
   "cell_type": "code",
   "execution_count": null,
   "id": "dd12246c",
   "metadata": {},
   "outputs": [],
   "source": []
  }
 ],
 "metadata": {
  "kernelspec": {
   "display_name": "Python 3 (ipykernel)",
   "language": "python",
   "name": "python3"
  },
  "language_info": {
   "codemirror_mode": {
    "name": "ipython",
    "version": 3
   },
   "file_extension": ".py",
   "mimetype": "text/x-python",
   "name": "python",
   "nbconvert_exporter": "python",
   "pygments_lexer": "ipython3",
   "version": "3.11.5"
  }
 },
 "nbformat": 4,
 "nbformat_minor": 5
}
